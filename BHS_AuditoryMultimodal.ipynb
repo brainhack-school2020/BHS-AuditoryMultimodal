{
  "nbformat": 4,
  "nbformat_minor": 0,
  "metadata": {
    "colab": {
      "name": "BHS-AuditoryMultimodal.ipynb",
      "provenance": [],
      "collapsed_sections": [],
      "include_colab_link": true
    },
    "kernelspec": {
      "name": "python3",
      "display_name": "Python 3"
    }
  },
  "cells": [
    {
      "cell_type": "markdown",
      "metadata": {
        "id": "view-in-github",
        "colab_type": "text"
      },
      "source": [
        "<a href=\"https://colab.research.google.com/github/brainhack-school2020/BHS-AuditoryMultimodal/blob/master/BHS_AuditoryMultimodal.ipynb\" target=\"_parent\"><img src=\"https://colab.research.google.com/assets/colab-badge.svg\" alt=\"Open In Colab\"/></a>"
      ]
    },
    {
      "cell_type": "markdown",
      "metadata": {
        "id": "ae-kJPXUNErn",
        "colab_type": "text"
      },
      "source": [
        "# Auditory Multimodal\n",
        "\n",
        "Add description of what is going on."
      ]
    },
    {
      "cell_type": "markdown",
      "metadata": {
        "id": "tTCtDwnPZoiQ",
        "colab_type": "text"
      },
      "source": [
        "Load Libs"
      ]
    },
    {
      "cell_type": "code",
      "metadata": {
        "id": "Jj1aWzReuUE9",
        "colab_type": "code",
        "colab": {}
      },
      "source": [
        ""
      ],
      "execution_count": 0,
      "outputs": []
    },
    {
      "cell_type": "markdown",
      "metadata": {
        "id": "htuJUp4kZtV6",
        "colab_type": "text"
      },
      "source": [
        "Load Data"
      ]
    },
    {
      "cell_type": "code",
      "metadata": {
        "id": "-eGh2Fz9ZurU",
        "colab_type": "code",
        "colab": {}
      },
      "source": [
        ""
      ],
      "execution_count": 0,
      "outputs": []
    }
  ]
}